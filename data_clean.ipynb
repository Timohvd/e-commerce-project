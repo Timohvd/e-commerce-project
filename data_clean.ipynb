{
 "cells": [
  {
   "cell_type": "code",
   "execution_count": 4,
   "id": "3185415b",
   "metadata": {},
   "outputs": [],
   "source": [
    "import pandas as pd\n",
    "import numpy as np\n",
    "import matplotlib.pyplot as plt\n",
    "import seaborn as sns"
   ]
  },
  {
   "cell_type": "code",
   "execution_count": 5,
   "id": "7bda2a38",
   "metadata": {},
   "outputs": [],
   "source": [
    "customer_data = pd.read_csv('data/olist_customers_dataset.csv')\n",
    "order_items_data = pd.read_csv('data/olist_order_items_dataset.csv')\n",
    "payments_data = pd.read_csv('data/olist_order_payments_dataset.csv')\n",
    "order_reviews_data = pd.read_csv('data/olist_order_reviews_dataset.csv')\n",
    "order_data = pd.read_csv('data/olist_orders_dataset.csv')\n",
    "product_data = pd.read_csv('data/olist_products_dataset.csv')\n",
    "seller_data = pd.read_csv('data/olist_sellers_dataset.csv')\n",
    "translation_data = pd.read_csv('data/product_category_name_translation.csv')\n",
    "location_data=pd.read_csv('data/olist_geolocation_dataset.csv')\n"
   ]
  },
  {
   "cell_type": "code",
   "execution_count": 17,
   "id": "8521c7d3",
   "metadata": {},
   "outputs": [
    {
     "data": {
      "text/plain": [
       "Index(['geolocation_zip_code_prefix', 'geolocation_lat', 'geolocation_lng',\n",
       "       'geolocation_city', 'geolocation_state'],\n",
       "      dtype='object')"
      ]
     },
     "execution_count": 17,
     "metadata": {},
     "output_type": "execute_result"
    }
   ],
   "source": [
    "location_data.columns"
   ]
  },
  {
   "cell_type": "code",
   "execution_count": 19,
   "id": "7eb558cd",
   "metadata": {},
   "outputs": [],
   "source": [
    "location_data['customer_zip_code_prefix'] = location_data['geolocation_zip_code_prefix']"
   ]
  },
  {
   "cell_type": "code",
   "execution_count": 20,
   "id": "7c060a15",
   "metadata": {},
   "outputs": [],
   "source": [
    "# Marketing Data\n",
    "marketing_data = pd.merge(order_data, order_reviews_data, on='order_id')\n",
    "marketing_data = pd.merge(marketing_data, customer_data, on='customer_id')\n",
    "\n",
    "# Sales Data\n",
    "sales_data = pd.merge(order_data, order_items_data, on='order_id')\n",
    "sales_data = pd.merge(sales_data, product_data, on='product_id')\n",
    "\n",
    "# Supply Data\n",
    "supply_data = pd.merge(order_data, payments_data, on='order_id')\n",
    "supply_data = pd.merge(supply_data, customer_data, on='customer_id')\n",
    "supply_data = pd.merge(supply_data, location_data, on='customer_zip_code_prefix')\n",
    "\n"
   ]
  },
  {
   "cell_type": "code",
   "execution_count": null,
   "id": "3cc73f67",
   "metadata": {},
   "outputs": [],
   "source": []
  }
 ],
 "metadata": {
  "kernelspec": {
   "display_name": "Python 3 (ipykernel)",
   "language": "python",
   "name": "python3"
  },
  "language_info": {
   "codemirror_mode": {
    "name": "ipython",
    "version": 3
   },
   "file_extension": ".py",
   "mimetype": "text/x-python",
   "name": "python",
   "nbconvert_exporter": "python",
   "pygments_lexer": "ipython3",
   "version": "3.9.13"
  }
 },
 "nbformat": 4,
 "nbformat_minor": 5
}
